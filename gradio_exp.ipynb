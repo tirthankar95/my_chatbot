{
 "cells": [
  {
   "cell_type": "code",
   "execution_count": null,
   "metadata": {},
   "outputs": [],
   "source": [
    "import gradio as gr \n",
    "\n",
    "def show_image():\n",
    "    return \"./img/mountains.jpg\"\n",
    "gr.Interface(fn = show_image, inputs = None, outputs=gr.Image()).launch()"
   ]
  },
  {
   "cell_type": "code",
   "execution_count": 27,
   "metadata": {},
   "outputs": [],
   "source": [
    "import matplotlib.pyplot as plt \n",
    "import seaborn as sns \n",
    "import numpy as np \n",
    "from uuid import uuid4\n",
    "import os \n",
    "\n",
    "sns.set_style('darkgrid')\n",
    "plt.rcParams['figure.figsize'] = (8, 4)\n",
    "\n",
    "def get_plot(query, history):\n",
    "    x = np.linspace(0, 10, 100)\n",
    "    y = np.sin(x)\n",
    "    sns.lineplot(data = {'sin x': y, 'x': x}, y = 'sin x', x = 'x')\n",
    "    filename = f'{uuid4()}.png'\n",
    "    plt.savefig(f'{os.path.join(\"img\", filename)}')\n",
    "    return gr.Image(filename)"
   ]
  },
  {
   "cell_type": "code",
   "execution_count": null,
   "metadata": {},
   "outputs": [],
   "source": [
    "gr.ChatInterface(get_plot).launch()"
   ]
  },
  {
   "cell_type": "code",
   "execution_count": null,
   "metadata": {},
   "outputs": [
    {
     "name": "stderr",
     "output_type": "stream",
     "text": [
      "/home/tirthankar-mittra/miniconda3/lib/python3.12/site-packages/gradio/utils.py:1024: UserWarning: Expected 1 arguments for function <function <lambda> at 0x7f440836d9e0>, received 0.\n",
      "  warnings.warn(\n",
      "/home/tirthankar-mittra/miniconda3/lib/python3.12/site-packages/gradio/utils.py:1028: UserWarning: Expected at least 1 arguments for function <function <lambda> at 0x7f440836d9e0>, received 0.\n",
      "  warnings.warn(\n"
     ]
    },
    {
     "name": "stdout",
     "output_type": "stream",
     "text": [
      "* Running on local URL:  http://127.0.0.1:7873\n",
      "\n",
      "To create a public link, set `share=True` in `launch()`.\n"
     ]
    },
    {
     "data": {
      "text/html": [
       "<div><iframe src=\"http://127.0.0.1:7873/\" width=\"100%\" height=\"500\" allow=\"autoplay; camera; microphone; clipboard-read; clipboard-write;\" frameborder=\"0\" allowfullscreen></iframe></div>"
      ],
      "text/plain": [
       "<IPython.core.display.HTML object>"
      ]
     },
     "metadata": {},
     "output_type": "display_data"
    },
    {
     "name": "stdout",
     "output_type": "stream",
     "text": [
      "* Running on local URL:  http://127.0.0.1:7874\n",
      "\n",
      "To create a public link, set `share=True` in `launch()`.\n"
     ]
    },
    {
     "data": {
      "text/html": [
       "<div><iframe src=\"http://127.0.0.1:7874/\" width=\"100%\" height=\"500\" allow=\"autoplay; camera; microphone; clipboard-read; clipboard-write;\" frameborder=\"0\" allowfullscreen></iframe></div>"
      ],
      "text/plain": [
       "<IPython.core.display.HTML object>"
      ]
     },
     "metadata": {},
     "output_type": "display_data"
    },
    {
     "data": {
      "text/plain": []
     },
     "execution_count": 12,
     "metadata": {},
     "output_type": "execute_result"
    }
   ],
   "source": [
    "import gradio as gr\n",
    "\n",
    "history = [\n",
    "    gr.ChatMessage(role=\"assistant\", content=\"How can I help you?\"),\n",
    "    gr.ChatMessage(role=\"user\", content=\"Can you make me a plot of quarterly sales?\"),\n",
    "    gr.ChatMessage(role=\"assistant\", content=\"I am happy to provide you that report and plot.\")\n",
    "]\n",
    "\n",
    "def yes(message, history):\n",
    "    return \"yes\"\n",
    "\n",
    "def vote(data: gr.LikeData):\n",
    "    if data.liked:\n",
    "        print(\"You upvoted this response: \" + data.value[\"value\"])\n",
    "    else:\n",
    "        print(\"You downvoted this response: \" + data.value[\"value\"])\n",
    "\n",
    "with gr.Blocks() as demo:\n",
    "    # chatbot = gr.Chatbot(placeholder=\"<img src='img/mountains.jpg'>\")\n",
    "    # chatbot.like(vote, None, None)\n",
    "    gr.ChatInterface(fn=yes, type=\"messages\")\n",
    "    gr.Interface(fn = lambda x: x, inputs = None, outputs=gr.Image()).launch()\n",
    "    gr.Chatbot(history, type=\"messages\")\n",
    "demo.launch()"
   ]
  },
  {
   "cell_type": "code",
   "execution_count": null,
   "metadata": {},
   "outputs": [],
   "source": [
    "import gradio as gr\n",
    "\n",
    "with gr.Blocks() as demo:\n",
    "    input_text = gr.Textbox()\n",
    "\n",
    "    @gr.render(inputs=input_text)\n",
    "    def show_split(text):\n",
    "        if len(text) == 0:\n",
    "            gr.Markdown(\"## No Input Provided\")\n",
    "        else:\n",
    "            for letter in text:\n",
    "                with gr.Row():\n",
    "                    text = gr.Textbox(letter)\n",
    "                    btn = gr.Button(\"Clear\")\n",
    "                    btn.click(lambda: gr.Textbox(value=\"\"), None, text)\n",
    "\n",
    "demo.launch()"
   ]
  },
  {
   "cell_type": "code",
   "execution_count": null,
   "metadata": {},
   "outputs": [],
   "source": [
    "import numpy as np\n",
    "import gradio as gr\n",
    "\n",
    "def sepia(input_img):\n",
    "    sepia_filter = np.array([\n",
    "        [0.393, 0.769, 0.189],\n",
    "        [0.349, 0.686, 0.168],\n",
    "        [0.272, 0.534, 0.131]\n",
    "    ])\n",
    "    sepia_img = input_img.dot(sepia_filter.T)\n",
    "    sepia_img /= sepia_img.max()\n",
    "    return sepia_img\n",
    "\n",
    "demo = gr.Interface(sepia, gr.Image(), \"image\")\n",
    "if __name__ == \"__main__\":\n",
    "    demo.launch()"
   ]
  },
  {
   "cell_type": "code",
   "execution_count": null,
   "metadata": {},
   "outputs": [
    {
     "name": "stdout",
     "output_type": "stream",
     "text": [
      "* Running on local URL:  http://127.0.0.1:7893\n",
      "\n",
      "To create a public link, set `share=True` in `launch()`.\n"
     ]
    },
    {
     "data": {
      "text/html": [
       "<div><iframe src=\"http://127.0.0.1:7893/\" width=\"100%\" height=\"500\" allow=\"autoplay; camera; microphone; clipboard-read; clipboard-write;\" frameborder=\"0\" allowfullscreen></iframe></div>"
      ],
      "text/plain": [
       "<IPython.core.display.HTML object>"
      ]
     },
     "metadata": {},
     "output_type": "display_data"
    },
    {
     "data": {
      "text/plain": []
     },
     "execution_count": 42,
     "metadata": {},
     "output_type": "execute_result"
    },
    {
     "name": "stderr",
     "output_type": "stream",
     "text": [
      "Traceback (most recent call last):\n",
      "  File \"/home/tirthankar-mittra/miniconda3/lib/python3.12/site-packages/gradio/queueing.py\", line 625, in process_events\n",
      "    response = await route_utils.call_process_api(\n",
      "               ^^^^^^^^^^^^^^^^^^^^^^^^^^^^^^^^^^^\n",
      "  File \"/home/tirthankar-mittra/miniconda3/lib/python3.12/site-packages/gradio/route_utils.py\", line 322, in call_process_api\n",
      "    output = await app.get_blocks().process_api(\n",
      "             ^^^^^^^^^^^^^^^^^^^^^^^^^^^^^^^^^^^\n",
      "  File \"/home/tirthankar-mittra/miniconda3/lib/python3.12/site-packages/gradio/blocks.py\", line 2147, in process_api\n",
      "    data = await self.postprocess_data(block_fn, result[\"prediction\"], state)\n",
      "           ^^^^^^^^^^^^^^^^^^^^^^^^^^^^^^^^^^^^^^^^^^^^^^^^^^^^^^^^^^^^^^^^^^\n",
      "  File \"/home/tirthankar-mittra/miniconda3/lib/python3.12/site-packages/gradio/blocks.py\", line 1939, in postprocess_data\n",
      "    prediction_value = block.postprocess(prediction_value)\n",
      "                       ^^^^^^^^^^^^^^^^^^^^^^^^^^^^^^^^^^^\n",
      "  File \"/home/tirthankar-mittra/miniconda3/lib/python3.12/site-packages/gradio/components/chatbot.py\", line 631, in postprocess\n",
      "    self._postprocess_message_messages(cast(MessageDict, message))\n",
      "  File \"/home/tirthankar-mittra/miniconda3/lib/python3.12/site-packages/gradio/components/chatbot.py\", line 587, in _postprocess_message_messages\n",
      "    message[\"content\"] = self._postprocess_content(message[\"content\"])\n",
      "                         ^^^^^^^^^^^^^^^^^^^^^^^^^^^^^^^^^^^^^^^^^^^^^\n",
      "  File \"/home/tirthankar-mittra/miniconda3/lib/python3.12/site-packages/gradio/components/chatbot.py\", line 569, in _postprocess_content\n",
      "    raise ValueError(f\"Invalid message for Chatbot component: {chat_message}\")\n",
      "ValueError: Invalid message for Chatbot component: {'component': 'image', 'value': {'path': '/tmp/gradio/d2bfb4d43d10ef4c0e58edb0e69169b1e80ce4b647523ba0d2beb7f5a6b0d573/mountains.jpg', 'url': '/gradio_api/file=/tmp/gradio/d2bfb4d43d10ef4c0e58edb0e69169b1e80ce4b647523ba0d2beb7f5a6b0d573/mountains.jpg', 'size': None, 'orig_name': 'mountains.jpg', 'mime_type': None, 'is_stream': False, 'meta': {'_type': 'gradio.FileData'}}, 'constructor_args': {'render': False}, 'props': {'streamable': False, 'value': {'path': '/tmp/gradio/d2bfb4d43d10ef4c0e58edb0e69169b1e80ce4b647523ba0d2beb7f5a6b0d573/mountains.jpg', 'url': '/gradio_api/file=/tmp/gradio/d2bfb4d43d10ef4c0e58edb0e69169b1e80ce4b647523ba0d2beb7f5a6b0d573/mountains.jpg', 'size': None, 'orig_name': 'mountains.jpg', 'mime_type': None, 'is_stream': False, 'meta': {'_type': 'gradio.FileData'}}, 'format': 'webp', 'height': None, 'width': None, 'image_mode': 'RGB', 'sources': ['upload', 'webcam', 'clipboard'], 'type': 'numpy', 'label': None, 'show_label': True, 'show_download_button': True, 'container': True, 'scale': None, 'min_width': 160, 'interactive': None, 'visible': True, 'streaming': False, 'elem_id': None, 'elem_classes': [], 'key': None, 'mirror_webcam': True, 'show_share_button': False, 'placeholder': None, 'show_fullscreen_button': True, 'webcam_constraints': None, 'proxy_url': None, 'name': 'image', '_selectable': False}}\n"
     ]
    }
   ],
   "source": [
    "import gradio as gr\n",
    "\n",
    "chat_history = [gr.ChatMessage(role=\"assistant\", content=gr.Image(\"./img/mountains.jpg\"))]\n",
    "\n",
    "def info(message, history):\n",
    "    history = chat_history\n",
    "    return \"Here is the media.\"\n",
    "\n",
    "# def vote(data: gr.LikeData):\n",
    "#     if data.liked:\n",
    "#         print(\"You upvoted this response: \" + data.value[\"value\"])\n",
    "#     else:\n",
    "#         print(\"You downvoted this response: \" + data.value[\"value\"])\n",
    "\n",
    "# def load():\n",
    "#     return [\n",
    "#         (\"Here's an audio\", gr.Audio(\"https://github.com/gradio-app/gradio/raw/main/test/test_files/audio_sample.wav\")),\n",
    "#         (\"Here's an video\", gr.Video(\"https://github.com/gradio-app/gradio/raw/main/demo/video_component/files/world.mp4\")),\n",
    "#         (\"Here's an image\", gr.Image(\"./img/mountains.jpg\"))\n",
    "#     ]\n",
    "\n",
    "with gr.Blocks() as demo:\n",
    "    chatbot = gr.Chatbot(chat_history, type=\"messages\")\n",
    "    # chatbot.like(vote, None, None)\n",
    "    gr.ChatInterface(info, type=\"messages\", chatbot=chatbot)\n",
    "\n",
    "demo.launch()"
   ]
  },
  {
   "cell_type": "code",
   "execution_count": null,
   "metadata": {},
   "outputs": [],
   "source": []
  }
 ],
 "metadata": {
  "kernelspec": {
   "display_name": "base",
   "language": "python",
   "name": "python3"
  },
  "language_info": {
   "codemirror_mode": {
    "name": "ipython",
    "version": 3
   },
   "file_extension": ".py",
   "mimetype": "text/x-python",
   "name": "python",
   "nbconvert_exporter": "python",
   "pygments_lexer": "ipython3",
   "version": "3.12.9"
  }
 },
 "nbformat": 4,
 "nbformat_minor": 2
}
